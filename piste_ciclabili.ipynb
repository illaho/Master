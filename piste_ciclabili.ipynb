{
  "nbformat": 4,
  "nbformat_minor": 0,
  "metadata": {
    "colab": {
      "name": "piste_ciclabili.ipynb",
      "provenance": [],
      "collapsed_sections": [],
      "authorship_tag": "ABX9TyOWgReQvjMMfqByHU/zzs01",
      "include_colab_link": true
    },
    "kernelspec": {
      "name": "python3",
      "display_name": "Python 3"
    }
  },
  "cells": [
    {
      "cell_type": "markdown",
      "metadata": {
        "id": "view-in-github",
        "colab_type": "text"
      },
      "source": [
        "<a href=\"https://colab.research.google.com/github/illaho/Master/blob/master/piste_ciclabili.ipynb\" target=\"_parent\"><img src=\"https://colab.research.google.com/assets/colab-badge.svg\" alt=\"Open In Colab\"/></a>"
      ]
    },
    {
      "cell_type": "code",
      "metadata": {
        "id": "DuP_R67gqusg",
        "colab_type": "code",
        "colab": {}
      },
      "source": [
        "!pip install selenium\n",
        "!apt-get update\n",
        "!apt install chromium-chromedriver\n",
        "!cp /usr/lib/chromium-browser/chromedriver /usr/bin"
      ],
      "execution_count": null,
      "outputs": []
    },
    {
      "cell_type": "code",
      "metadata": {
        "id": "aYat5MwyrB9N",
        "colab_type": "code",
        "colab": {}
      },
      "source": [
        "import sys\n",
        "sys.path.insert(0,'/usr/lib/chromium-browser/chromedriver')\n",
        "from selenium import webdriver\n",
        "from tqdm import tqdm_notebook as tqdm\n",
        "import pandas as pd\n",
        "import numpy as np\n",
        "import json\n",
        "import pprint\n",
        "import time\n",
        "import pprint"
      ],
      "execution_count": 15,
      "outputs": []
    },
    {
      "cell_type": "code",
      "metadata": {
        "id": "21yOrQeDrGV2",
        "colab_type": "code",
        "colab": {}
      },
      "source": [
        "options = webdriver.ChromeOptions()\n",
        "options.add_argument('--headless')\n",
        "options.add_argument('--no-sandbox')\n",
        "options.add_argument('--disable-dev-shm-usage')"
      ],
      "execution_count": null,
      "outputs": []
    },
    {
      "cell_type": "code",
      "metadata": {
        "id": "NVlB-HWZrM32",
        "colab_type": "code",
        "colab": {}
      },
      "source": [
        "wd_home = webdriver.Chrome('chromedriver', options=options)\n",
        "wd_home.get(\"https://www.piste-ciclabili.com/piste_ciclabili/\") #homepage\n",
        "wd = webdriver.Chrome('chromedriver', options=options) #per le sotto pagine"
      ],
      "execution_count": null,
      "outputs": []
    },
    {
      "cell_type": "code",
      "metadata": {
        "id": "AGsw6S15rQ8-",
        "colab_type": "code",
        "colab": {}
      },
      "source": [
        "wd_home.save_screenshot('screenshot.png')\n",
        "%pylab inline\n",
        "import matplotlib.pyplot as plt\n",
        "import matplotlib.image as mpimg\n",
        "img=mpimg.imread('/content/screenshot.png')\n",
        "imgplot = plt.imshow(img)\n",
        "plt.show()"
      ],
      "execution_count": null,
      "outputs": []
    },
    {
      "cell_type": "code",
      "metadata": {
        "id": "kzPDPoP_rYHz",
        "colab_type": "code",
        "colab": {}
      },
      "source": [
        "print(wd_home.title)"
      ],
      "execution_count": null,
      "outputs": []
    },
    {
      "cell_type": "code",
      "metadata": {
        "id": "LdeLwUXVj7Cm",
        "colab_type": "code",
        "colab": {}
      },
      "source": [
        "elenco_regioni = wd_home.find_elements_by_css_selector(\"ul.home-region li\")\n",
        "print(len(elenco_regioni))\n",
        "print(elenco_regioni)"
      ],
      "execution_count": null,
      "outputs": []
    },
    {
      "cell_type": "code",
      "metadata": {
        "id": "AUhuLcZzTm6B",
        "colab_type": "code",
        "colab": {}
      },
      "source": [
        "lista_regioni = []\n",
        "for num in range(len(elenco_regioni)):\n",
        "    nome_regione = wd_home.find_elements_by_css_selector(\"ul.home-region li a\")[num].text\n",
        "    link_sottopagine_regione = wd_home.find_elements_by_css_selector(\"ul.home-region li a\")[num].get_attribute(\"href\")\n",
        "    lista_regioni.append({'_id': num,\n",
        "                          'nome_regione': nome_regione,\n",
        "                          'link_sottopagine_regione': link_sottopagine_regione}) \n",
        "print(len(lista_regioni))\n",
        "pprint.pprint(lista_regioni)   "
      ],
      "execution_count": null,
      "outputs": []
    },
    {
      "cell_type": "code",
      "metadata": {
        "id": "O8TbtWIASC7e",
        "colab_type": "code",
        "colab": {}
      },
      "source": [
        "ds_regioni = pd.DataFrame(lista_regioni)\n",
        "ds_regioni.set_index(\"_id\")\n",
        "ds_regioni.info()"
      ],
      "execution_count": null,
      "outputs": []
    },
    {
      "cell_type": "code",
      "metadata": {
        "id": "-tOlz41vSXxa",
        "colab_type": "code",
        "colab": {}
      },
      "source": [
        "ds_regioni.to_csv('/ds_regioni.csv')\n",
        "ds_regioni = pd.read_csv('/ds_regioni.csv')"
      ],
      "execution_count": null,
      "outputs": []
    },
    {
      "cell_type": "code",
      "metadata": {
        "id": "ijGAwG-Tl-mY",
        "colab_type": "code",
        "colab": {}
      },
      "source": [
        "dettagli_percorsi = []\n",
        "for num in tqdm(range(len(elenco_regioni))):\n",
        "    link_sottopagine_regione = wd_home.find_elements_by_css_selector(\"ul.home-region li a\")[num].get_attribute(\"href\")\n",
        "    time.sleep(3 + np.random.randn()*0.2)\n",
        "    wd.get(link_sottopagine_regione)\n",
        "    #wd.save_screenshot(f'screenshot_{nome_regione}.png') --per verificare \n",
        "    lista_percorsi = wd.find_elements_by_css_selector(\"#tableItinerariBody tr\")\n",
        "    for percorso in tqdm(lista_percorsi):\n",
        "        rif_regione = num\n",
        "        percorso_id = percorso.find_element_by_css_selector(\"td a\").get_attribute(\"href\").split(\"/\")[4].split(\"-\")[0]\n",
        "        nome_percorso = percorso.find_element_by_css_selector(\"td a\").text\n",
        "        url = percorso.find_element_by_css_selector(\"td a\").get_attribute(\"href\")\n",
        "        distanza = percorso.find_elements_by_css_selector(\"td\")[1].text\n",
        "        tipo = percorso.find_elements_by_css_selector(\"td\")[2].text\n",
        "        fondo = percorso.find_elements_by_css_selector(\"td\")[3].text\n",
        "        pendenza_max = percorso.find_elements_by_css_selector(\"td\")[4].text\n",
        "        dislivello = percorso.find_elements_by_css_selector(\"td\")[5].text\n",
        "        dettagli_percorsi.append({'_id': percorso_id,\n",
        "                                  'nome_percorso': nome_percorso,\n",
        "                                  'url' : url,\n",
        "                                  'distanza' : distanza,\n",
        "                                  'tipo' : tipo,\n",
        "                                  'fondo' : fondo,\n",
        "                                  'pendenza_max' : pendenza_max,\n",
        "                                  'dislivello' : dislivello,\n",
        "                                  'rif_regione': rif_regione})\n",
        "print(len(dettagli_percorsi))\n",
        "pprint.pprint(dettagli_percorsi)"
      ],
      "execution_count": null,
      "outputs": []
    },
    {
      "cell_type": "code",
      "metadata": {
        "id": "bD7_lyH3J5ia",
        "colab_type": "code",
        "colab": {}
      },
      "source": [
        "ds_dettagli_percorsi = pd.DataFrame(dettagli_percorsi)\n",
        "ds_dettagli_percorsi.set_index(\"_id\")\n",
        "ds_dettagli_percorsi.head()"
      ],
      "execution_count": null,
      "outputs": []
    },
    {
      "cell_type": "code",
      "metadata": {
        "id": "WyBQ3el9KXHX",
        "colab_type": "code",
        "colab": {}
      },
      "source": [
        "ds_dettagli_percorsi.info()"
      ],
      "execution_count": null,
      "outputs": []
    },
    {
      "cell_type": "code",
      "metadata": {
        "id": "O3MRLYQ0KpAh",
        "colab_type": "code",
        "colab": {}
      },
      "source": [
        "#ds_dettagli_percorsi.to_csv('/ds_dettagli_percorsi.csv')\n",
        "ds_dettagli_percorsi = pd.read_csv('/content/ds_dettagli_percorsi.csv')"
      ],
      "execution_count": null,
      "outputs": []
    },
    {
      "cell_type": "code",
      "metadata": {
        "id": "tqCT96mjUpVI",
        "colab_type": "code",
        "colab": {}
      },
      "source": [
        "import requests\n",
        "info_aggiuntive = []\n",
        "lista_commenti = []\n",
        "elenco_luoghi_attraversati = []\n",
        "elenco_img_altimetrie = []\n",
        "for _id, percorso in tqdm(ds_dettagli_percorsi.loc[2001:].iterrows()):  #.loc[2000:] eseguito scraping in 2parti\n",
        "    #time.sleep(1 + np.random.randn()*0.2)\n",
        "    link = percorso[\"url\"]\n",
        "    percorso_id = link.split(\"/\")[4].split(\"-\")[0]\n",
        "    wd.get(link)\n",
        "    #info_aggiuntive\n",
        "    bambini = wd.find_elements_by_css_selector(\"table.dettagli_itinerario tbody tr\")[4].text.split(\":\")[-1]\n",
        "    pattinatori = wd.find_elements_by_css_selector(\"table.dettagli_itinerario tbody tr\")[5].text.split(\":\")[-1]\n",
        "    descrizione = wd.find_element_by_css_selector(\"#container .main\").text.split(\"stampabile\")[-1].split(\"Itinerario segnalato\")[0]\n",
        "    stringa_ultimo_aggiornam = wd.find_element_by_css_selector(\"#container .main\").text.split(\"stampabile\")[-1].split(\"Itinerario segnalato\")[-1].split(\"Commenta\")[0]\n",
        "    if \"il\" in stringa_ultimo_aggiornam:\n",
        "        ultimo_aggiornam = stringa_ultimo_aggiornam.split(\"il\")[-1] #es il 24 giugno 2020\n",
        "    else:\n",
        "        ultimo_aggiornam = stringa_ultimo_aggiornam.split(\"l'\")[-1] #es l'11 settembre 2020\n",
        "    link_imm_percorso = wd.find_element_by_css_selector(\"h2.roadbook-link a\").get_attribute(\"href\")\n",
        "    info_aggiuntive.append({'_id': percorso_id,\n",
        "                            'bambini': bambini,\n",
        "                            'pattinatori': pattinatori,\n",
        "                            'descrizione': descrizione,\n",
        "                            'ultimo_aggiornam': ultimo_aggiornam,\n",
        "                            'link_imm_percorso': link_imm_percorso})\n",
        "    #immagini_altimetrie\n",
        "    src = wd.find_element_by_css_selector(\"div.imageContainer img.altimetricImage\").get_attribute(\"src\")\n",
        "    elenco_img_altimetrie.append({\"_id\": _id, #non ho assegnato bene l'id (percorso_id), devo rinominare i file...vedi cella più sotto\n",
        "                                  \"img_file\": \"altimetria_\" + str(_id) + \".jpg\"}) #idem _id\n",
        "    img_file = requests.get(src, stream=True)\n",
        "    if img_file.status_code == 200: #prima salva cartella!!!!!\n",
        "      with open(\"/content/images_percorsi_altimetrie/altimetria_\" + str(_id) + \".jpg\", 'wb') as f: #idem _id \n",
        "          f.write(img_file.content) \n",
        "    #lista_commenti\n",
        "    try:\n",
        "      commenti = wd.find_element_by_css_selector(\".comments h2 a\").text\n",
        "      if \"(\" in commenti: #se sono presenti commenti il numero degli stessi è contenuto tra parentesi, es: Commenti (5)\n",
        "          num_commenti_stringa = commenti.split(\"(\")[-1].split(\")\")[0]\n",
        "          num_commenti = int(num_commenti_stringa)\n",
        "          for num in range(num_commenti):\n",
        "              commento = wd.find_elements_by_css_selector(\".comments ul li\")[num].text.split('\\n')[0]\n",
        "              data = wd.find_elements_by_css_selector(\".comments ul li\")[num].text.split(',')[-1]\n",
        "              #commento = container_commenti[num_commento].text\n",
        "              lista_commenti.append({'_id': percorso_id,\n",
        "                                    'commento': commento,\n",
        "                                    'data': data})\n",
        "    except:\n",
        "        lista_commenti.append({'_id': percorso_id,\n",
        "                              'commento': \"N/D\",\n",
        "                               'data': \"N/D\"})\n",
        "    #elenco_luoghi_attraversati\n",
        "    container_luoghi_attraversati = wd.find_elements_by_css_selector(\"ol.luoghi_attraversati li\")\n",
        "    for luogo in range(len(container_luoghi_attraversati)):\n",
        "        tappa_intermedia = wd.find_elements_by_css_selector(\"ol.luoghi_attraversati li\")[luogo].text\n",
        "        tappa_intermedia_lat = wd.find_elements_by_css_selector(\"ol.luoghi_attraversati li\")[luogo].get_attribute(\"data-lat\")\n",
        "        tappa_intermedia_lng = wd.find_elements_by_css_selector(\"ol.luoghi_attraversati li\")[luogo].get_attribute(\"data-lng\")\n",
        "        elenco_luoghi_attraversati.append({'_id': percorso_id,\n",
        "                                      'tappa_intermedia': tappa_intermedia,\n",
        "                                      'tappa_intermedia_lat': tappa_intermedia_lat,\n",
        "                                      'tappa_intermedia_lng': tappa_intermedia_lng})\n",
        "#pprint.pprint(elenco_luoghi_attraversati)\n",
        "ds_info_aggiuntive = pd.DataFrame(info_aggiuntive)\n",
        "ds_lista_commenti = pd.DataFrame(lista_commenti)\n",
        "ds_elenco_luoghi_attraversati = pd.DataFrame(elenco_luoghi_attraversati)\n",
        "ds_elenco_img_altimetrie = pd.DataFrame(elenco_img_altimetrie)"
      ],
      "execution_count": null,
      "outputs": []
    },
    {
      "cell_type": "code",
      "metadata": {
        "id": "lA1Sj7BNeYMc",
        "colab_type": "code",
        "colab": {}
      },
      "source": [
        "ds_info_aggiuntive.to_csv('/ds_info_aggiuntive.csv')\n",
        "ds_lista_commenti.to_csv('/ds_lista_commenti.csv')\n",
        "ds_elenco_luoghi_attraversati.to_csv('/ds_elenco_luoghi_attraversati.csv')\n",
        "ds_elenco_img_altimetrie.to_csv('/ds_elenco_img_altimetrie.csv')"
      ],
      "execution_count": null,
      "outputs": []
    },
    {
      "cell_type": "code",
      "metadata": {
        "id": "Oo6HU3DanzkZ",
        "colab_type": "code",
        "colab": {}
      },
      "source": [
        "#ho sbagliato assegnazione id nei record del ds_elenco_img_altimetrie, aggiungo colonne in due step [:2000] e [2001:]\n",
        "ds_elenco_img_altimetrie = pd.read_csv('/content/ds_elenco_img_altimetrie_2001.csv')\n",
        "ds_dettagli_percorsi = pd.read_csv('/content/ds_dettagli_percorsi.csv')\n",
        "new_id = []\n",
        "new_nome_imm = []\n",
        "for _id, percorso in tqdm(ds_dettagli_percorsi.loc[2001:].iterrows()): #scraping in 2parti\n",
        "    _id = percorso['_id']\n",
        "    nome_imm = 'altimetria_' + str(_id) + '.jpg'\n",
        "    new_id.append(_id)\n",
        "    new_nome_imm.append(nome_imm)\n",
        "ds_elenco_img_altimetrie['new_id'] = new_id\n",
        "ds_elenco_img_altimetrie['new_nome_imm'] = new_nome_imm\n",
        "ds_elenco_img_altimetrie.to_csv('/ds_elenco_img_altimetrie.csv')"
      ],
      "execution_count": null,
      "outputs": []
    },
    {
      "cell_type": "code",
      "metadata": {
        "id": "Vs0u50-XqhIw",
        "colab_type": "code",
        "colab": {}
      },
      "source": [
        "import zipfile\n",
        "with zipfile.ZipFile('/content/immagini.zip', 'r') as zip_ref:\n",
        "    zip_ref.extractall('/content/immagini/')"
      ],
      "execution_count": 10,
      "outputs": []
    },
    {
      "cell_type": "code",
      "metadata": {
        "id": "ShVNSoMvVS5Q",
        "colab_type": "code",
        "colab": {}
      },
      "source": [
        "#ds_dettagli_percorsi = pd.read_csv('/content/ds_dettagli_percorsi.csv')\n",
        "\n",
        "#rinomina immagini\n",
        "import os\n",
        "\n",
        "for _id, percorso in tqdm(ds_dettagli_percorsi.loc[2001:].iterrows()): #scraping in 2parti\n",
        "    percorso_id = percorso['_id']\n",
        "    os.rename(r'/content/immagini(1)/altimetria_' + str(_id) + '.jpg', r'/content/immagini(1)/altimetria_' + str(_id) + '_' + str(percorso_id) + '.jpg')\n",
        "    #print(_id, percorso_id)"
      ],
      "execution_count": null,
      "outputs": []
    },
    {
      "cell_type": "code",
      "metadata": {
        "id": "9nKmjnPaM-g_",
        "colab_type": "code",
        "colab": {}
      },
      "source": [
        "import shutil\n",
        "zip_name = 'una_gioia'\n",
        "directory_name = '/content/immagini(1)/'\n",
        "# Create 'path\\to\\zip_file.zip'\n",
        "shutil.make_archive('immagini_2001', 'zip', '/content/immaginin(1)/')"
      ],
      "execution_count": null,
      "outputs": []
    },
    {
      "cell_type": "code",
      "metadata": {
        "id": "fREBNqGjb2pM",
        "colab_type": "code",
        "colab": {}
      },
      "source": [
        "#ds_info_aggiuntive.info()\n",
        "#ds_info_aggiuntive.head()\n",
        "#ds_lista_commenti.info()\n",
        "#ds_lista_commenti\n",
        "#ds_elenco_luoghi_attraversati.info()\n",
        "ds_elenco_luoghi_attraversati"
      ],
      "execution_count": null,
      "outputs": []
    },
    {
      "cell_type": "code",
      "metadata": {
        "id": "8s-r3F92H6fW",
        "colab_type": "code",
        "colab": {}
      },
      "source": [
        "ds_info_aggiuntive.head()"
      ],
      "execution_count": null,
      "outputs": []
    },
    {
      "cell_type": "code",
      "metadata": {
        "id": "z6Zk81V28geb",
        "colab_type": "code",
        "colab": {}
      },
      "source": [
        "ds_info_aggiuntive = pd.read_csv('/content/ds_info_aggiuntive_2001.csv')"
      ],
      "execution_count": null,
      "outputs": []
    },
    {
      "cell_type": "code",
      "metadata": {
        "id": "hOkNchKvBaTL",
        "colab_type": "code",
        "colab": {}
      },
      "source": [
        "elenco_img_mappa_percorsi = []\n",
        "for _id, percorso in tqdm(ds_info_aggiuntive.iterrows()): \n",
        "    #time.sleep(1 + np.random.randn()*0.2)\n",
        "    link = percorso[\"link_imm_percorso\"]\n",
        "    percorso_id = percorso[\"_id\"]\n",
        "    wd.get(link)\n",
        "    \n",
        "    #immagini_altimetrie\n",
        "    wd.execute_script(\"window.scrollBy(0,120)\")\n",
        "    wd.save_screenshot(\"/content/images_mappe_percorsi_1/mappa_percorso_\" + str(percorso_id) + \".png\") #crea cartella\n",
        "    \n",
        "    elenco_img_mappa_percorsi.append({\"_id\": percorso_id, \n",
        "                                      \"img_file\": \"mappa_percorso_\" + str(percorso_id) + \".png\"})\n",
        "\n",
        "ds_elenco_img_mappa_percorsi = pd.DataFrame(elenco_img_mappa_percorsi)\n",
        "ds_elenco_img_mappa_percorsi.to_csv('/ds_elenco_img_mappa_percorsi_2001.csv')"
      ],
      "execution_count": null,
      "outputs": []
    },
    {
      "cell_type": "code",
      "metadata": {
        "id": "cF-UZQCDUiFg",
        "colab_type": "code",
        "colab": {
          "base_uri": "https://localhost:8080/",
          "height": 35
        },
        "outputId": "fdad08dd-2575-4682-c1f6-98a4cf6bec43"
      },
      "source": [
        "import shutil\n",
        "zip_name = 'una_gioia'\n",
        "directory_name = '/content/images_mappe_percorsi_1/'\n",
        "\n",
        "# Create 'path\\to\\zip_file.zip'\n",
        "shutil.make_archive('mappe_percorsi_2001', 'zip', '/content/images_mappe_percorsi_1/')"
      ],
      "execution_count": null,
      "outputs": [
        {
          "output_type": "execute_result",
          "data": {
            "application/vnd.google.colaboratory.intrinsic+json": {
              "type": "string"
            },
            "text/plain": [
              "'/content/mappe_percorsi_2001.zip'"
            ]
          },
          "metadata": {
            "tags": []
          },
          "execution_count": 19
        }
      ]
    },
    {
      "cell_type": "code",
      "metadata": {
        "id": "nzynZ5lskhHX",
        "colab_type": "code",
        "colab": {}
      },
      "source": [
        "\"\"\"ds_percorsi_molise_tappe_intermedie = pd.DataFrame(elenco_luoghi_attraversati)\n",
        "ds_percorsi_molise_tappe_intermedie.set_index(\"_id\")\n",
        "ds_percorsi_molise_tappe_intermedie.head()\"\"\""
      ],
      "execution_count": null,
      "outputs": []
    },
    {
      "cell_type": "code",
      "metadata": {
        "id": "uRgYdxz9lN9Y",
        "colab_type": "code",
        "colab": {}
      },
      "source": [
        "\"\"\"ds_percorsi_molise_tappe_intermedie.to_csv('/ds_percorsi_molise_tappe_intermedie.csv')\n",
        "ds_percorsi_molise_tappe_intermedie = pd.read_csv(\"/ds_percorsi_molise_tappe_intermedie.csv\", index_col=\"_id\")\n",
        "ds_percorsi_molise_tappe_intermedie.head()"
      ],
      "execution_count": null,
      "outputs": []
    },
    {
      "cell_type": "code",
      "metadata": {
        "id": "E_D6rxAlQoBV",
        "colab_type": "code",
        "colab": {
          "base_uri": "https://localhost:8080/",
          "height": 440
        },
        "outputId": "23a00303-8907-4bf2-900f-70d6a5bbbfec"
      },
      "source": [
        "!pip install clarifai"
      ],
      "execution_count": null,
      "outputs": [
        {
          "output_type": "stream",
          "text": [
            "Collecting clarifai\n",
            "\u001b[?25l  Downloading https://files.pythonhosted.org/packages/7a/1b/b7718c29f54ba7545551724461a8c2891304b7e68e5f415c30b49499f5e1/clarifai-2.6.2.tar.gz (125kB)\n",
            "\r\u001b[K     |██▋                             | 10kB 18.1MB/s eta 0:00:01\r\u001b[K     |█████▏                          | 20kB 1.8MB/s eta 0:00:01\r\u001b[K     |███████▉                        | 30kB 2.3MB/s eta 0:00:01\r\u001b[K     |██████████▍                     | 40kB 2.6MB/s eta 0:00:01\r\u001b[K     |█████████████                   | 51kB 2.0MB/s eta 0:00:01\r\u001b[K     |███████████████▋                | 61kB 2.3MB/s eta 0:00:01\r\u001b[K     |██████████████████▎             | 71kB 2.6MB/s eta 0:00:01\r\u001b[K     |████████████████████▉           | 81kB 2.8MB/s eta 0:00:01\r\u001b[K     |███████████████████████▌        | 92kB 3.0MB/s eta 0:00:01\r\u001b[K     |██████████████████████████      | 102kB 2.8MB/s eta 0:00:01\r\u001b[K     |████████████████████████████▊   | 112kB 2.8MB/s eta 0:00:01\r\u001b[K     |███████████████████████████████▎| 122kB 2.8MB/s eta 0:00:01\r\u001b[K     |████████████████████████████████| 133kB 2.8MB/s \n",
            "\u001b[?25hRequirement already satisfied: future<2,>=0.15 in /usr/local/lib/python3.6/dist-packages (from clarifai) (0.16.0)\n",
            "Requirement already satisfied: requests<3,>=2.13 in /usr/local/lib/python3.6/dist-packages (from clarifai) (2.23.0)\n",
            "Collecting configparser<4,>=3.5\n",
            "  Downloading https://files.pythonhosted.org/packages/ab/1a/ec151e5e703ac80041eaccef923611bbcec2b667c20383655a06962732e9/configparser-3.8.1-py2.py3-none-any.whl\n",
            "Requirement already satisfied: jsonschema<3,>=2.5 in /usr/local/lib/python3.6/dist-packages (from clarifai) (2.6.0)\n",
            "Requirement already satisfied: grpcio<2,>=1.13.0 in /usr/local/lib/python3.6/dist-packages (from clarifai) (1.31.0)\n",
            "Requirement already satisfied: protobuf<4,>=3.6 in /usr/local/lib/python3.6/dist-packages (from clarifai) (3.12.4)\n",
            "Requirement already satisfied: googleapis-common-protos<2,>=1.5.0 in /usr/local/lib/python3.6/dist-packages (from clarifai) (1.52.0)\n",
            "Requirement already satisfied: certifi>=2017.4.17 in /usr/local/lib/python3.6/dist-packages (from requests<3,>=2.13->clarifai) (2020.6.20)\n",
            "Requirement already satisfied: idna<3,>=2.5 in /usr/local/lib/python3.6/dist-packages (from requests<3,>=2.13->clarifai) (2.10)\n",
            "Requirement already satisfied: chardet<4,>=3.0.2 in /usr/local/lib/python3.6/dist-packages (from requests<3,>=2.13->clarifai) (3.0.4)\n",
            "Requirement already satisfied: urllib3!=1.25.0,!=1.25.1,<1.26,>=1.21.1 in /usr/local/lib/python3.6/dist-packages (from requests<3,>=2.13->clarifai) (1.24.3)\n",
            "Requirement already satisfied: six>=1.5.2 in /usr/local/lib/python3.6/dist-packages (from grpcio<2,>=1.13.0->clarifai) (1.15.0)\n",
            "Requirement already satisfied: setuptools in /usr/local/lib/python3.6/dist-packages (from protobuf<4,>=3.6->clarifai) (49.6.0)\n",
            "Building wheels for collected packages: clarifai\n",
            "  Building wheel for clarifai (setup.py) ... \u001b[?25l\u001b[?25hdone\n",
            "  Created wheel for clarifai: filename=clarifai-2.6.2-cp36-none-any.whl size=188404 sha256=7ac740a08ca675d4effe0c0e9c1c4b80a7748318294471925944a2066aebd9be\n",
            "  Stored in directory: /root/.cache/pip/wheels/17/2c/3b/d89ffd4572633f70872165cedf61813ac8047461ed5e1e3768\n",
            "Successfully built clarifai\n",
            "Installing collected packages: configparser, clarifai\n",
            "Successfully installed clarifai-2.6.2 configparser-3.8.1\n"
          ],
          "name": "stdout"
        }
      ]
    },
    {
      "cell_type": "code",
      "metadata": {
        "id": "IgaIEz4URNe4",
        "colab_type": "code",
        "colab": {}
      },
      "source": [
        "from clarifai.rest import ClarifaiApp\n",
        "clarifai_key = \"da711b05799b4db697c536dfa65459c9\"\n",
        "app = ClarifaiApp(api_key=clarifai_key)\n",
        "# use the general model\n",
        "model = app.public_models.general_model"
      ],
      "execution_count": null,
      "outputs": []
    },
    {
      "cell_type": "code",
      "metadata": {
        "id": "cr7FXRytRXtO",
        "colab_type": "code",
        "colab": {}
      },
      "source": [
        ""
      ],
      "execution_count": null,
      "outputs": []
    }
  ]
}