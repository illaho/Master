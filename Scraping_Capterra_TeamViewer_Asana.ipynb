{
  "nbformat": 4,
  "nbformat_minor": 0,
  "metadata": {
    "colab": {
      "name": "Scraping_Capterra_TeamViewer_Asana.ipynb",
      "provenance": [],
      "collapsed_sections": [],
      "authorship_tag": "ABX9TyN8V0ILR+Sg9eQQdtR0YTjw",
      "include_colab_link": true
    },
    "kernelspec": {
      "display_name": "Python 3",
      "name": "python3"
    }
  },
  "cells": [
    {
      "cell_type": "markdown",
      "metadata": {
        "id": "view-in-github",
        "colab_type": "text"
      },
      "source": [
        "<a href=\"https://colab.research.google.com/github/illaho/Master/blob/master/Scraping_Capterra_TeamViewer_Asana.ipynb\" target=\"_parent\"><img src=\"https://colab.research.google.com/assets/colab-badge.svg\" alt=\"Open In Colab\"/></a>"
      ]
    },
    {
      "cell_type": "code",
      "metadata": {
        "colab": {
          "base_uri": "https://localhost:8080/"
        },
        "id": "DuP_R67gqusg",
        "outputId": "eb9fb258-32d0-405d-f355-150692c1293b"
      },
      "source": [
        "!pip install selenium\n",
        "!apt-get update\n",
        "!apt install chromium-chromedriver\n",
        "!cp /usr/lib/chromium-browser/chromedriver /usr/bin"
      ],
      "execution_count": 22,
      "outputs": [
        {
          "output_type": "stream",
          "text": [
            "Requirement already satisfied: selenium in /usr/local/lib/python3.6/dist-packages (3.141.0)\n",
            "Requirement already satisfied: urllib3 in /usr/local/lib/python3.6/dist-packages (from selenium) (1.24.3)\n",
            "Ign:1 https://developer.download.nvidia.com/compute/cuda/repos/ubuntu1804/x86_64  InRelease\n",
            "Get:2 https://cloud.r-project.org/bin/linux/ubuntu bionic-cran40/ InRelease [3,626 B]\n",
            "Ign:3 https://developer.download.nvidia.com/compute/machine-learning/repos/ubuntu1804/x86_64  InRelease\n",
            "Hit:4 https://developer.download.nvidia.com/compute/cuda/repos/ubuntu1804/x86_64  Release\n",
            "Hit:5 https://developer.download.nvidia.com/compute/machine-learning/repos/ubuntu1804/x86_64  Release\n",
            "Hit:6 http://ppa.launchpad.net/c2d4u.team/c2d4u4.0+/ubuntu bionic InRelease\n",
            "Get:7 http://security.ubuntu.com/ubuntu bionic-security InRelease [88.7 kB]\n",
            "Hit:8 http://archive.ubuntu.com/ubuntu bionic InRelease\n",
            "Get:10 http://archive.ubuntu.com/ubuntu bionic-updates InRelease [88.7 kB]\n",
            "Hit:11 http://ppa.launchpad.net/graphics-drivers/ppa/ubuntu bionic InRelease\n",
            "Get:13 http://archive.ubuntu.com/ubuntu bionic-backports InRelease [74.6 kB]\n",
            "Get:14 http://archive.ubuntu.com/ubuntu bionic-updates/universe amd64 Packages [2,130 kB]\n",
            "Fetched 2,385 kB in 3s (948 kB/s)\n",
            "Reading package lists... Done\n",
            "Reading package lists... Done\n",
            "Building dependency tree       \n",
            "Reading state information... Done\n",
            "chromium-chromedriver is already the newest version (86.0.4240.198-0ubuntu0.18.04.1).\n",
            "0 upgraded, 0 newly installed, 0 to remove and 49 not upgraded.\n",
            "cp: '/usr/lib/chromium-browser/chromedriver' and '/usr/bin/chromedriver' are the same file\n"
          ],
          "name": "stdout"
        }
      ]
    },
    {
      "cell_type": "code",
      "metadata": {
        "id": "aYat5MwyrB9N"
      },
      "source": [
        "import sys\n",
        "sys.path.insert(0,'/usr/lib/chromium-browser/chromedriver')\n",
        "from selenium import webdriver\n",
        "from tqdm import tqdm_notebook as tqdm\n",
        "import pandas as pd\n",
        "import numpy as np\n",
        "import json\n",
        "import pprint\n",
        "import time\n",
        "import pprint"
      ],
      "execution_count": 23,
      "outputs": []
    },
    {
      "cell_type": "code",
      "metadata": {
        "id": "21yOrQeDrGV2"
      },
      "source": [
        "options = webdriver.ChromeOptions()\n",
        "options.add_argument('--headless')\n",
        "options.add_argument('--no-sandbox')\n",
        "options.add_argument('--disable-dev-shm-usage')"
      ],
      "execution_count": 24,
      "outputs": []
    },
    {
      "cell_type": "code",
      "metadata": {
        "id": "NVlB-HWZrM32"
      },
      "source": [
        "wd = webdriver.Chrome('chromedriver', options=options)\n",
        "wd.get(\"https://www.capterra.com/p/120550/Asana/reviews/\")\n",
        "#wd.get(\"https://www.capterra.com/p/194565/TeamViewer/reviews/\") "
      ],
      "execution_count": 25,
      "outputs": []
    },
    {
      "cell_type": "code",
      "metadata": {
        "id": "AGsw6S15rQ8-"
      },
      "source": [
        "wd.save_screenshot('screenshot.png')\n",
        "%pylab inline\n",
        "import matplotlib.pyplot as plt\n",
        "import matplotlib.image as mpimg\n",
        "img=mpimg.imread('/content/screenshot.png')\n",
        "imgplot = plt.imshow(img)\n",
        "plt.show()"
      ],
      "execution_count": null,
      "outputs": []
    },
    {
      "cell_type": "code",
      "metadata": {
        "id": "nUa97XajFUEY"
      },
      "source": [
        "#to load review...\n",
        "list_50 =[]\n",
        "for i in range(1,183):\n",
        "   multiplo = 50*i\n",
        "   list_50.append(multiplo)\n",
        "#print(list_50)"
      ],
      "execution_count": 27,
      "outputs": []
    },
    {
      "cell_type": "code",
      "metadata": {
        "id": "AYCKtAqKDFp8"
      },
      "source": [
        "num_reviews = wd.find_element_by_css_selector(\"span.Responsive__HideForMobile-sc-4qthxq-0.fQJWO div.StarRating__Count-sc-9jwzgg-2.iQfOTw\").text.split(\"(\")[1].split(\")\")[0]\n",
        "#print(num_reviews)\n",
        "num_reviews = int(num_reviews)"
      ],
      "execution_count": 28,
      "outputs": []
    },
    {
      "cell_type": "code",
      "metadata": {
        "id": "V8voIn3x10Fb"
      },
      "source": [
        "\"\"\"per scraping in più volte, devo ricaricare le reviews, il bottone in fondo carica 50 reviews alla volta\n",
        "for i in tqdm(range(1, 40)):\n",
        "  time.sleep(5 + np.random.randn()*0.2)\n",
        "  wd.find_element_by_css_selector('div.gtm-review-section > div.WidthLimiter__Root-sjrjtk-0.gIbRfg > div > div > button > div.Button__CenteredText-sc-1p3sq94-4').click()"
      ],
      "execution_count": null,
      "outputs": []
    },
    {
      "cell_type": "code",
      "metadata": {
        "id": "AUhuLcZzTm6B"
      },
      "source": [
        "review = []\n",
        "#wd.find_element_by_css_selector('#LoadableReviewSection > div > div.gtm-review-section > div.WidthLimiter__Root-sjrjtk-0.gIbRfg > div > div > button > div.Button__CenteredText-sc-1p3sq94-4').click()\n",
        "for num in tqdm(range(1, num_reviews + 1)): \n",
        "    index = num\n",
        "    Piattaforma = \"Asana\" #TeamViewer\n",
        "    #ID_General = index + \" \" + Piattaforma\n",
        "    details_container = wd.find_element_by_css_selector(f\"div.gtm-review-section > div:nth-child({num}) > div > div > div > div:nth-child(1) > div.ReviewerAvatarSection__Root-sc-1a80501-0.qIcnK > div.ReviewerAvatarSection__ReviewerInfo-sc-1a80501-1.cSadMy\")\n",
        "    User = details_container.find_element_by_css_selector(\"div.ReviewerAvatarSection__ReviewerName-sc-1a80501-2.gJQgt\").text\n",
        "    Lavoro = details_container.find_element_by_css_selector(\"div.ReviewerAvatarSection__ReviewerDetails-sc-1a80501-4.bInnRf > div:nth-child(1)\").text\n",
        "    Settore = details_container.find_element_by_css_selector(\" div.ReviewerAvatarSection__ReviewerDetails-sc-1a80501-4.bInnRf > div:nth-child(2)\").text.split(',')[0] #check solo personale\n",
        "    Utilizzo_software = wd.find_element_by_css_selector(\" div.ReviewerAvatarSection__ReviewerDetails-sc-1a80501-4.bInnRf > div:nth-child(3)\").text.split(': ')[-1]\n",
        "    review_container = wd.find_element_by_css_selector(f\"div.gtm-review-section > div:nth-child({num}) > div > div > div > div.ReviewCard__RightFlexItem-sc-18j15p9-3.cOmWnW.ReviewCard__FlexItem-sc-18j15p9-2.bTVfYT\")\n",
        "    titoloReview = review_container.find_element_by_css_selector(\"h3\").text\n",
        "    Commenti = review_container.find_element_by_css_selector(\"div.VisibleInViewport__Root-rewj2p-0.gMsvlr > div:nth-child(2)\").text\n",
        "    Vantaggi = review_container.find_element_by_css_selector(\"div.VisibleInViewport__Root-rewj2p-0.gMsvlr > div:nth-child(3)\").text  \n",
        "    Incovenienti = review_container.find_element_by_css_selector(\"div.VisibleInViewport__Root-rewj2p-0.gMsvlr > div:nth-child(4)\").text\n",
        "    Data_Recensione = wd.find_element_by_css_selector(f\"div.gtm-review-section > div:nth-child({num}) > div > div > div > div:nth-child(1) > div.ReviewCard__DesktopOnlyDiv-sc-18j15p9-6.gckeCD > div.ReviewSource__Root-lnjke6-0.iBAGLQ > div:nth-child(3)\").text\n",
        "    ValutazioneComplessiva = wd.find_element_by_css_selector(f\"div.gtm-review-section > div:nth-child({num}) > div > div > div > div:nth-child(1) > strong > div > div.StarRating__Root-sc-9jwzgg-0.bQJsCF > div.StarRating__Rating-sc-9jwzgg-1.kCLiav\").text.strip(\"/\")[0]\n",
        "    star_container = wd.find_elements_by_css_selector(f\"div.gtm-review-section > div:nth-child({num}) > div > div > div > div:nth-child(1) > div\")\n",
        "    lunghezza = len(star_container)\n",
        "    star = wd.find_element_by_css_selector(f\"div.gtm-review-section > div:nth-child({num}) > div > div > div > div:nth-child(1)\")\n",
        "    #print(lung)\n",
        "    if lunghezza == 8:\n",
        "      star_1 = star.find_element_by_css_selector(\"div:nth-child(3) > div:nth-child(1)\").text + \" \" + star.find_element_by_css_selector(\"div:nth-child(3) > div.StarRating__Root-sc-9jwzgg-0.bQJsCF > div.StarRating__Rating-sc-9jwzgg-1.kCLiav\").text.split(\"/\")[0]\n",
        "      star_2 = star.find_element_by_css_selector(\"div:nth-child(4) > div:nth-child(1)\").text + \" \" + star.find_element_by_css_selector(\"div:nth-child(4) > div.StarRating__Root-sc-9jwzgg-0.bQJsCF > div.StarRating__Rating-sc-9jwzgg-1.kCLiav\").text.split(\"/\")[0]\n",
        "      star_3 = star.find_element_by_css_selector(\"div:nth-child(5) > div:nth-child(1)\").text + \" \" + star.find_element_by_css_selector(\"div:nth-child(5) > div.StarRating__Root-sc-9jwzgg-0.bQJsCF > div.StarRating__Rating-sc-9jwzgg-1.kCLiav\").text.split(\"/\")[0]\n",
        "      star_4 = star.find_element_by_css_selector(\"div:nth-child(6) > div:nth-child(1)\").text + \" \" + star.find_element_by_css_selector(\"div:nth-child(6) > div.StarRating__Root-sc-9jwzgg-0.bQJsCF > div.StarRating__Rating-sc-9jwzgg-1.kCLiav\").text.split(\"/\")[0]\n",
        "    elif lunghezza == 7:\n",
        "      star_1 = star.find_element_by_css_selector(\"div:nth-child(3) > div:nth-child(1)\").text + \" \" + star.find_element_by_css_selector(\"div:nth-child(3) > div.StarRating__Root-sc-9jwzgg-0.bQJsCF > div.StarRating__Rating-sc-9jwzgg-1.kCLiav\").text.split(\"/\")[0]\n",
        "      star_2 = star.find_element_by_css_selector(\"div:nth-child(4) > div:nth-child(1)\").text + \" \" + star.find_element_by_css_selector(\"div:nth-child(4) > div.StarRating__Root-sc-9jwzgg-0.bQJsCF > div.StarRating__Rating-sc-9jwzgg-1.kCLiav\").text.split(\"/\")[0]\n",
        "      star_3 = star.find_element_by_css_selector(\"div:nth-child(5) > div:nth-child(1)\").text + \" \" + star.find_element_by_css_selector(\"div:nth-child(5) > div.StarRating__Root-sc-9jwzgg-0.bQJsCF > div.StarRating__Rating-sc-9jwzgg-1.kCLiav\").text.split(\"/\")[0]\n",
        "      star_4 = \"\"\n",
        "    elif lunghezza == 6:\n",
        "      star_1 = star.find_element_by_css_selector(\"div:nth-child(3) > div:nth-child(1)\").text + \" \" + star.find_element_by_css_selector(\"div:nth-child(3) > div.StarRating__Root-sc-9jwzgg-0.bQJsCF > div.StarRating__Rating-sc-9jwzgg-1.kCLiav\").text.split(\"/\")[0]\n",
        "      star_2 = star.find_element_by_css_selector(\"div:nth-child(4) > div:nth-child(1)\").text + \" \" + star.find_element_by_css_selector(\"div:nth-child(4) > div.StarRating__Root-sc-9jwzgg-0.bQJsCF > div.StarRating__Rating-sc-9jwzgg-1.kCLiav\").text.split(\"/\")[0]\n",
        "      star_3 = \"\"\n",
        "      star_4 = \"\"\n",
        "    elif lunghezza == 5:\n",
        "      star_1 = star.find_element_by_css_selector(\"div:nth-child(3) > div:nth-child(1)\").text + \" \" + star.find_element_by_css_selector(\"div:nth-child(3) > div.StarRating__Root-sc-9jwzgg-0.bQJsCF > div.StarRating__Rating-sc-9jwzgg-1.kCLiav\").text.split(\"/\")[0]\n",
        "      star_2 = \"\"\n",
        "      star_3 = \"\"\n",
        "      star_4 = \"\"\n",
        "    else:\n",
        "      star_1 = \"\"\n",
        "      star_2 = \"\"\n",
        "      star_3 = \"\"\n",
        "      star_4 = \"\" \n",
        "    try:\n",
        "      Consigliato = star.find_element_by_css_selector(\"span\").text.split(\"/\")[0] \n",
        "    except:\n",
        "      Consigliato = \"\"\n",
        "    review.append({'index': index,\n",
        "                   'Piattaforma': Piattaforma,\n",
        "                   'User': User,\n",
        "                   'Lavoro': Lavoro,\n",
        "                   'Settore': Settore,\n",
        "                   'Utilizzo_software': Utilizzo_software,\n",
        "                   'titoloReview': titoloReview,\n",
        "                   'Commenti': Commenti,\n",
        "                   'Data_Recensione': Data_Recensione,\n",
        "                   'Vantaggi': Vantaggi,\n",
        "                   'Incovenienti': Incovenienti,\n",
        "                   'ValutazioneComplessiva': ValutazioneComplessiva,\n",
        "                   'star_1': star_1,\n",
        "                   'star_2': star_2,\n",
        "                   'star_3': star_3,\n",
        "                   'star_4': star_4,\n",
        "                   'Consigliato': Consigliato}) \n",
        "    if num in list_50:\n",
        "      time.sleep(3 + np.random.randn()*0.2)\n",
        "      try: \n",
        "        wd.find_element_by_css_selector('div.gtm-review-section > div.WidthLimiter__Root-sjrjtk-0.gIbRfg > div > div > button > div.Button__CenteredText-sc-1p3sq94-4').click()\n",
        "      except:\n",
        "        pass  \n",
        "\n",
        "print(len(review))\n",
        "#pprint.pprint(review)   \n",
        "ds_detail_review = pd.DataFrame(review)\n",
        "ds_detail_review.set_index(\"index\")\n",
        "#ds_detail_review.head()\n",
        "ds_detail_review.info()\n",
        "ds_detail_review.to_csv('ds_review_Asana.csv') #TeamViewer"
      ],
      "execution_count": null,
      "outputs": []
    }
  ]
}